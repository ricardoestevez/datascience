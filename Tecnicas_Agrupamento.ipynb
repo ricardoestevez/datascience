{
  "nbformat": 4,
  "nbformat_minor": 0,
  "metadata": {
    "colab": {
      "provenance": [],
      "toc_visible": true,
      "authorship_tag": "ABX9TyNgXKO8I20tqAPtfRVx01zp",
      "include_colab_link": true
    },
    "kernelspec": {
      "name": "python3",
      "display_name": "Python 3"
    },
    "language_info": {
      "name": "python"
    }
  },
  "cells": [
    {
      "cell_type": "markdown",
      "metadata": {
        "id": "view-in-github",
        "colab_type": "text"
      },
      "source": [
        "<a href=\"https://colab.research.google.com/github/ricardoestevez/datascience/blob/master/Tecnicas_Agrupamento.ipynb\" target=\"_parent\"><img src=\"https://colab.research.google.com/assets/colab-badge.svg\" alt=\"Open In Colab\"/></a>"
      ]
    },
    {
      "cell_type": "markdown",
      "source": [
        "#Técnicas de Agrupamento"
      ],
      "metadata": {
        "id": "zrzSPr_eyZsl"
      }
    },
    {
      "cell_type": "markdown",
      "source": [
        "## *K-Means & K-Medoids*"
      ],
      "metadata": {
        "id": "vdSGSSU4yfEG"
      }
    },
    {
      "cell_type": "markdown",
      "source": [
        "### Resumo"
      ],
      "metadata": {
        "id": "O1E31el4ylrq"
      }
    },
    {
      "cell_type": "markdown",
      "source": [
        "Método K-Means, permite a clusterização dos dados via aprendizado de máquina não-supervisionado em K grupos a partir da sua proximidade quando não se possui uma categorização própria.\n",
        "\n",
        "Ao definir um valor de K (_grupos_) o algoritmo irá selecionar centroides (_aleatoriamente_) e agrupar os dados de acordo com a distância (_euclidiana_) mais próxima do dado ao centroide. Após a primeira atribuição de centroides, um novo conjunto de centroides é calculado a partir da distância média dos dados de cada grupo e inicia-se mais uma vez a separação de grupos. Esses passos são repetidos até a convergência em que não tenha mais mudança significativa nos resultados.\n",
        "\n",
        "\n",
        "Para a escolha do valor de *K* recomenda-se o método do 'Cotovelo', em que se gera o gráfico da soma dos erros quadráticos internos dos clusters dado o número de clusters, a partir de então observa-se em qual ponto o aumento de grupos passa a estabilizar a taxa de redução dos erros.\n",
        "\n",
        "A diferença entre o método *K-Means* e *K-Medoids* é que ao passo que _K-Means_ seleciona um ponto aleatório no espaço _K-Medoids_ escolhe um dos valores existentes nos dados como ponto central."
      ],
      "metadata": {
        "id": "nQ2EEFfly1j1"
      }
    },
    {
      "cell_type": "markdown",
      "source": [
        "### Vantagens e Desvantagens"
      ],
      "metadata": {
        "id": "wMAuClVqyuee"
      }
    },
    {
      "cell_type": "markdown",
      "source": [
        "*Vantagens*\n",
        "- Possui processamento rápido, sem grande exigência computacional mesmo em grande quantidade de dados.\n",
        "- Facil de implementar e boa escalabilidade.\n",
        "\n",
        "\n",
        "\n",
        "*Desvantagens*\n",
        "- Sensível a outliers, podendo deslocar muito a média.\n",
        "- Precisa definir o valor de K préviamente.\n",
        "- Se adequa melhor quando os cluestes possuem formato esférico.\n",
        "- Pode convergir para mínimos locais"
      ],
      "metadata": {
        "id": "iHYifZYEy274"
      }
    },
    {
      "cell_type": "markdown",
      "source": [
        "###Resumo prático\n",
        "\n",
        "| Critério                     | K-means                         | K-medoids                          |\n",
        "|-----------------------------|----------------------------------|------------------------------------|\n",
        "| **Tipo de centróide**       | Média                            | Ponto real (medoide)               |\n",
        "| **Robustez a outliers**     | Baixa                            | Alta                               |\n",
        "| **Tipo de dados**           | Numéricos                        | Numéricos ou categóricos           |\n",
        "| **Métrica**                 | Distância euclidiana (normalmente) | Qualquer métrica de distância     |\n",
        "| **Escalabilidade**          | Alta                             | Baixa (menos eficiente)            |\n",
        "| **Complexidade computacional** | O(nkt)                       | O(k(n−k)²) (ex.: PAM)              |\n",
        "| **Interpretabilidade**      | Centróides fictícios             | Medoides reais                     |\n",
        "\n"
      ],
      "metadata": {
        "id": "PaazhCZzQBVN"
      }
    },
    {
      "cell_type": "markdown",
      "source": [
        "### Exemplo Prático"
      ],
      "metadata": {
        "id": "6vUtdFY7yxrU"
      }
    },
    {
      "cell_type": "code",
      "source": [
        "!pip install -r ../requirements.txt"
      ],
      "metadata": {
        "id": "X6RvssgC0n7r",
        "outputId": "0618e887-029f-4862-8332-f194ab9440e9",
        "colab": {
          "base_uri": "https://localhost:8080/"
        },
        "collapsed": true
      },
      "execution_count": null,
      "outputs": [
        {
          "output_type": "stream",
          "name": "stdout",
          "text": [
            "Requirement already satisfied: pandas in /usr/local/lib/python3.11/dist-packages (from -r ../requirements.txt (line 1)) (2.2.2)\n",
            "Requirement already satisfied: numpy in /usr/local/lib/python3.11/dist-packages (from -r ../requirements.txt (line 2)) (2.0.2)\n",
            "Requirement already satisfied: matplotlib in /usr/local/lib/python3.11/dist-packages (from -r ../requirements.txt (line 3)) (3.10.0)\n",
            "Requirement already satisfied: scikit-learn in /usr/local/lib/python3.11/dist-packages (from -r ../requirements.txt (line 4)) (1.6.1)\n",
            "Requirement already satisfied: python-dateutil>=2.8.2 in /usr/local/lib/python3.11/dist-packages (from pandas->-r ../requirements.txt (line 1)) (2.9.0.post0)\n",
            "Requirement already satisfied: pytz>=2020.1 in /usr/local/lib/python3.11/dist-packages (from pandas->-r ../requirements.txt (line 1)) (2025.2)\n",
            "Requirement already satisfied: tzdata>=2022.7 in /usr/local/lib/python3.11/dist-packages (from pandas->-r ../requirements.txt (line 1)) (2025.2)\n",
            "Requirement already satisfied: contourpy>=1.0.1 in /usr/local/lib/python3.11/dist-packages (from matplotlib->-r ../requirements.txt (line 3)) (1.3.2)\n",
            "Requirement already satisfied: cycler>=0.10 in /usr/local/lib/python3.11/dist-packages (from matplotlib->-r ../requirements.txt (line 3)) (0.12.1)\n",
            "Requirement already satisfied: fonttools>=4.22.0 in /usr/local/lib/python3.11/dist-packages (from matplotlib->-r ../requirements.txt (line 3)) (4.58.4)\n",
            "Requirement already satisfied: kiwisolver>=1.3.1 in /usr/local/lib/python3.11/dist-packages (from matplotlib->-r ../requirements.txt (line 3)) (1.4.8)\n",
            "Requirement already satisfied: packaging>=20.0 in /usr/local/lib/python3.11/dist-packages (from matplotlib->-r ../requirements.txt (line 3)) (24.2)\n",
            "Requirement already satisfied: pillow>=8 in /usr/local/lib/python3.11/dist-packages (from matplotlib->-r ../requirements.txt (line 3)) (11.2.1)\n",
            "Requirement already satisfied: pyparsing>=2.3.1 in /usr/local/lib/python3.11/dist-packages (from matplotlib->-r ../requirements.txt (line 3)) (3.2.3)\n",
            "Requirement already satisfied: scipy>=1.6.0 in /usr/local/lib/python3.11/dist-packages (from scikit-learn->-r ../requirements.txt (line 4)) (1.15.3)\n",
            "Requirement already satisfied: joblib>=1.2.0 in /usr/local/lib/python3.11/dist-packages (from scikit-learn->-r ../requirements.txt (line 4)) (1.5.1)\n",
            "Requirement already satisfied: threadpoolctl>=3.1.0 in /usr/local/lib/python3.11/dist-packages (from scikit-learn->-r ../requirements.txt (line 4)) (3.6.0)\n",
            "Requirement already satisfied: six>=1.5 in /usr/local/lib/python3.11/dist-packages (from python-dateutil>=2.8.2->pandas->-r ../requirements.txt (line 1)) (1.17.0)\n"
          ]
        }
      ]
    },
    {
      "cell_type": "code",
      "execution_count": null,
      "metadata": {
        "id": "YxvYz-AIxRMD"
      },
      "outputs": [],
      "source": [
        "from google.colab import drive\n",
        "drive.mount('/content/drive')"
      ]
    }
  ]
}