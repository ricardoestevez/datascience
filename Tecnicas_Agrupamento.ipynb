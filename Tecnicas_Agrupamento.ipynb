{
  "nbformat": 4,
  "nbformat_minor": 0,
  "metadata": {
    "colab": {
      "provenance": [],
      "authorship_tag": "ABX9TyOKW9ODzaO+xwZgOHm1jGZ/",
      "include_colab_link": true
    },
    "kernelspec": {
      "name": "python3",
      "display_name": "Python 3"
    },
    "language_info": {
      "name": "python"
    }
  },
  "cells": [
    {
      "cell_type": "markdown",
      "metadata": {
        "id": "view-in-github",
        "colab_type": "text"
      },
      "source": [
        "<a href=\"https://colab.research.google.com/github/ricardoestevez/datascience/blob/master/Tecnicas_Agrupamento.ipynb\" target=\"_parent\"><img src=\"https://colab.research.google.com/assets/colab-badge.svg\" alt=\"Open In Colab\"/></a>"
      ]
    },
    {
      "cell_type": "markdown",
      "source": [
        "#Técnicas de Agrupamento"
      ],
      "metadata": {
        "id": "zrzSPr_eyZsl"
      }
    },
    {
      "cell_type": "markdown",
      "source": [
        "## *K-Means & K-Medoids*"
      ],
      "metadata": {
        "id": "vdSGSSU4yfEG"
      }
    },
    {
      "cell_type": "markdown",
      "source": [
        "### Resumo"
      ],
      "metadata": {
        "id": "O1E31el4ylrq"
      }
    },
    {
      "cell_type": "markdown",
      "source": [],
      "metadata": {
        "id": "nQ2EEFfly1j1"
      }
    },
    {
      "cell_type": "markdown",
      "source": [
        "### Vantagens e Desvantagens"
      ],
      "metadata": {
        "id": "wMAuClVqyuee"
      }
    },
    {
      "cell_type": "markdown",
      "source": [],
      "metadata": {
        "id": "iHYifZYEy274"
      }
    },
    {
      "cell_type": "markdown",
      "source": [
        "### Exemplo Prático"
      ],
      "metadata": {
        "id": "6vUtdFY7yxrU"
      }
    },
    {
      "cell_type": "code",
      "execution_count": 3,
      "metadata": {
        "id": "YxvYz-AIxRMD"
      },
      "outputs": [],
      "source": [
        "from google.colab import drive\n",
        "drive.mount('/content/drive')"
      ]
    }
  ]
}